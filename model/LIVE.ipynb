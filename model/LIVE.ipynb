{
 "cells": [
  {
   "cell_type": "code",
   "execution_count": 8,
   "metadata": {},
   "outputs": [],
   "source": [
    "import cv2\n",
    "import matplotlib.pyplot as plt"
   ]
  },
  {
   "cell_type": "code",
   "execution_count": 9,
   "metadata": {},
   "outputs": [],
   "source": [
    "coco_file = \"ssd_mobilenet_v3_large_coco_2020_01_14.pbtxt\"\n",
    "forzen_model = \"frozen_inference_graph.pb\"\n",
    "Labels = \"coco.names\""
   ]
  },
  {
   "cell_type": "code",
   "execution_count": 10,
   "metadata": {},
   "outputs": [],
   "source": [
    "model = cv2.dnn_DetectionModel(forzen_model,coco_file)"
   ]
  },
  {
   "cell_type": "code",
   "execution_count": 11,
   "metadata": {},
   "outputs": [],
   "source": [
    "classlabel = []\n",
    "with open(Labels,'rt') as fpt:\n",
    "    classlabel = fpt.read().rstrip('\\n').split('\\n')\n",
    "    "
   ]
  },
  {
   "cell_type": "code",
   "execution_count": 12,
   "metadata": {},
   "outputs": [
    {
     "data": {
      "text/plain": [
       "80"
      ]
     },
     "execution_count": 12,
     "metadata": {},
     "output_type": "execute_result"
    }
   ],
   "source": [
    "len(classlabel)"
   ]
  },
  {
   "cell_type": "code",
   "execution_count": 13,
   "metadata": {},
   "outputs": [
    {
     "data": {
      "text/plain": [
       "< cv2.dnn.Model 0000019D5E4FAD70>"
      ]
     },
     "execution_count": 13,
     "metadata": {},
     "output_type": "execute_result"
    }
   ],
   "source": [
    "model.setInputSize(320,320)\n",
    "model.setInputScale(1.0/127.5)\n",
    "model.setInputMean((127.5,127.5,127.5))\n",
    "model.setInputSwapRB(True)"
   ]
  },
  {
   "cell_type": "code",
   "execution_count": 18,
   "metadata": {},
   "outputs": [
    {
     "name": "stdout",
     "output_type": "stream",
     "text": [
      "[1]\n",
      "[1]\n",
      "[1]\n",
      "[1]\n",
      "[1]\n",
      "[1]\n",
      "[1]\n",
      "[1]\n",
      "[1]\n",
      "[1]\n",
      "[1]\n",
      "[1]\n",
      "[1]\n",
      "[1]\n",
      "[1]\n",
      "[1]\n",
      "[1]\n",
      "[1]\n",
      "[1]\n",
      "[1]\n",
      "[1]\n",
      "[1]\n",
      "[1]\n",
      "[1]\n",
      "[1]\n",
      "[1]\n",
      "[1]\n",
      "[1]\n",
      "[1]\n",
      "[1]\n",
      "[1]\n",
      "[1]\n",
      "[1]\n",
      "[1]\n",
      "[1]\n",
      "[1]\n",
      "[1]\n",
      "[1]\n",
      "[1]\n",
      "[1]\n",
      "[1]\n",
      "[1]\n",
      "[1]\n",
      "[1]\n",
      "[1]\n",
      "[ 1 62]\n",
      "[ 1 62]\n",
      "[1]\n",
      "[1]\n",
      "[1]\n",
      "[62  1]\n",
      "[1]\n",
      "[1]\n",
      "[ 1 62]\n",
      "[ 1 62]\n",
      "[ 1 62]\n",
      "[ 1 62]\n",
      "[ 1 62]\n",
      "[ 1 62]\n",
      "[ 1 62]\n",
      "[ 1 62]\n",
      "[1]\n",
      "[ 1 62]\n",
      "[1]\n",
      "[1]\n",
      "[1]\n",
      "[1]\n",
      "[1]\n",
      "[1]\n",
      "[1]\n",
      "[1]\n",
      "[1]\n",
      "[1]\n",
      "[1]\n",
      "[1]\n",
      "[1]\n",
      "[1]\n",
      "[1]\n",
      "[1]\n",
      "[1]\n",
      "[1]\n",
      "[ 1 62]\n",
      "[62  1]\n",
      "[62  1]\n",
      "[62  1]\n",
      "[62  1]\n",
      "[ 1 62]\n",
      "[ 1 62]\n",
      "[ 1 62]\n",
      "[1]\n",
      "[1]\n",
      "[1]\n",
      "[1]\n",
      "[1]\n",
      "[ 1 62 62]\n",
      "[1]\n",
      "[1]\n",
      "[ 1 62]\n",
      "[ 1 62]\n",
      "[ 1 62]\n",
      "[ 1 62]\n",
      "[ 1 62]\n",
      "[ 1 62]\n",
      "[ 1 62]\n",
      "[ 1 62]\n",
      "[ 1 62]\n",
      "[ 1 62]\n",
      "[ 1 62]\n",
      "[ 1 62]\n",
      "[1]\n",
      "[1]\n",
      "[1]\n",
      "[1]\n",
      "[1]\n",
      "[1]\n",
      "[1]\n",
      "[1]\n",
      "[1]\n",
      "[1]\n",
      "[1]\n",
      "[1]\n",
      "[1]\n",
      "[1]\n",
      "[1]\n",
      "[1]\n",
      "[1]\n",
      "[1]\n",
      "[1]\n",
      "[1]\n",
      "[1]\n",
      "[1]\n",
      "[1]\n",
      "[1]\n",
      "[1]\n",
      "[1]\n",
      "[1]\n",
      "[1]\n",
      "[1]\n",
      "[1]\n",
      "[1]\n",
      "[1]\n"
     ]
    }
   ],
   "source": [
    "import cv2\n",
    "\n",
    "cap = cv2.VideoCapture(0)\n",
    "\n",
    "# Set the frame size (change width and height as needed)\n",
    "cap.set(cv2.CAP_PROP_FRAME_WIDTH, 640)\n",
    "cap.set(cv2.CAP_PROP_FRAME_HEIGHT, 480)\n",
    "\n",
    "if not cap.isOpened():\n",
    "    raise IOError(\"Cannot open camera!\")\n",
    "\n",
    "font_scale = 3\n",
    "font = cv2.FONT_HERSHEY_PLAIN\n",
    "\n",
    "while True:\n",
    "    ret, frame = cap.read()\n",
    "    Classindex, confidence, bbox = model.detect(frame, confThreshold=0.55)\n",
    "    print(Classindex)\n",
    "\n",
    "    if len(Classindex) != 0:\n",
    "        for Classind, conf, boxes in zip(Classindex.flatten(), confidence.flatten(), bbox):\n",
    "            if 0 < Classind <= len(classlabel):  # Check if Classind is within valid range\n",
    "                cv2.rectangle(frame, boxes, (255, 0, 0), 4)\n",
    "                cv2.putText(frame, classlabel[Classind - 1], (boxes[0] + 10, boxes[1] + 40),\n",
    "                            font, fontScale=font_scale, color=(0, 255, 0), thickness=3)\n",
    "            else:\n",
    "                print(f\"Invalid Classind: {Classind}\")\n",
    "\n",
    "    cv2.imshow(\"object detected\", frame)\n",
    "    if cv2.waitKey(2) & 0xFF == ord(\"q\"):\n",
    "        break\n",
    "\n",
    "cap.release()\n",
    "cv2.destroyAllWindows()\n"
   ]
  }
 ],
 "metadata": {
  "kernelspec": {
   "display_name": "major23",
   "language": "python",
   "name": "python3"
  },
  "language_info": {
   "codemirror_mode": {
    "name": "ipython",
    "version": 3
   },
   "file_extension": ".py",
   "mimetype": "text/x-python",
   "name": "python",
   "nbconvert_exporter": "python",
   "pygments_lexer": "ipython3",
   "version": "3.9.0"
  }
 },
 "nbformat": 4,
 "nbformat_minor": 2
}
